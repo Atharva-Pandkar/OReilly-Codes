{
 "cells": [
  {
   "cell_type": "code",
   "execution_count": 1,
   "metadata": {},
   "outputs": [],
   "source": [
    "from typing import Tuple\n",
    "import math\n",
    "\n",
    "def normal_appromixation_to_binomial(n: int, p:float) -> Tuple[float,float]:\n",
    "    \"\"\" Returns mu & sigma corresponding to a binomial(n,p) \"\"\"\n",
    "\n",
    "    mu = p * n\n",
    "    sigma = math.sqrt(p * (1 - p) * n)\n",
    "    return mu, sigma"
   ]
  },
  {
   "cell_type": "markdown",
   "metadata": {},
   "source": [
    "# Normal Probability Above/Below/Between"
   ]
  },
  {
   "cell_type": "code",
   "execution_count": 2,
   "metadata": {},
   "outputs": [],
   "source": [
    "from Helper.Probabilty import normal_cdf\n",
    "\n",
    "# The normal cdf _is_ the probability thae variable is below a threshold \n",
    "\n",
    "normal_probability_below = normal_cdf\n",
    "\n",
    "# It's above the threshold if it's not below the threshold\n",
    "def normal_probability_above( lo: float,\n",
    "                              mu: float = 0,\n",
    "                              sigma: float = 1) -> float:\n",
    "    \"\"\"  The probabilty that an N(mu, sigma) is greater than lo.\"\"\"\n",
    "    return 1 - normal_cdf(lo, mu, sigma)\n",
    "\n",
    "# if it's less than hi, but not less than lo\n",
    "def normal_probability_between(lo: float,\n",
    "                               hi: float,\n",
    "                               mu: float,\n",
    "                               sigma: float = 1) -> float:\n",
    "    \"\"\" The probability that an N(mu, sigma) is between lo and hi \"\"\"\n",
    "    return normal_cdf(hi, mu, sigma) - normal_cdf(lo, mu, sigma)\n",
    "\n",
    "# It's outside if it's not between\n",
    "def normal_probability_outside(lo: float,\n",
    "                               hi: float,\n",
    "                               mu: float,\n",
    "                               sigma: float = 1) -> float:\n",
    "    \"\"\" The probability that an N(mu, sigma) is not between lo and hi  \"\"\"\n",
    "    return 1 - normal_probability_between(lo, hi, mu, sigma)\n"
   ]
  },
  {
   "cell_type": "markdown",
   "metadata": {},
   "source": [
    "# Inverse Probability by bounds \n",
    " "
   ]
  },
  {
   "cell_type": "code",
   "execution_count": 6,
   "metadata": {},
   "outputs": [],
   "source": [
    "from Helper.Probabilty import inverse_normal_cdf\n",
    "\n",
    "def  normal_upper_bound(probability: float,\n",
    "                        mu : float = 0,\n",
    "                        sigma: float = 1) -> float:\n",
    "    \"\"\" Returns the z for which P(Z >= z) = probability \"\"\"\n",
    "    return inverse_normal_cdf(probability, mu, sigma)\n",
    "\n",
    "def  normal_lower_bound(probability: float,\n",
    "                        mu : float = 0,\n",
    "                        sigma: float = 1) -> float:\n",
    "    \"\"\" Returns the z for which P(Z >= z) = probability \"\"\"\n",
    "    return inverse_normal_cdf( 1 - probability, mu, sigma)\n",
    "\n",
    "def normal_two_sided_bounds(probability: float,\n",
    "                            mu: float, \n",
    "                            sigma: float = 1) -> Tuple[float, float]:\n",
    "    \"\"\" \n",
    "    Returns the symmetric (above the mean ) bounds\n",
    "    that contains the specified probability\n",
    "    \"\"\"\n",
    "\n",
    "    tail_probability = ( 1 - probability) / 2\n",
    "\n",
    "    # Upper bound should have tail_probability above it\n",
    "    upper_bound = normal_lower_bound(tail_probability, mu, sigma)\n",
    "\n",
    "    # Lower bound should have tail_probability below it\n",
    "    lower_bound = normal_upper_bound(tail_probability, mu, sigma)\n",
    "\n",
    "    return lower_bound, upper_bound\n",
    "\n"
   ]
  },
  {
   "cell_type": "code",
   "execution_count": 7,
   "metadata": {},
   "outputs": [
    {
     "name": "stdout",
     "output_type": "stream",
     "text": [
      " mu_0 500.0  sigma 15.811388300841896\n"
     ]
    }
   ],
   "source": [
    "mu_0, sigma_0 = normal_appromixation_to_binomial(1000, 0.5)\n",
    "print(f' mu_0 {mu_0}  sigma {sigma_0}')"
   ]
  },
  {
   "cell_type": "code",
   "execution_count": 8,
   "metadata": {},
   "outputs": [
    {
     "name": "stdout",
     "output_type": "stream",
     "text": [
      " Lower_bound = 469.01026640487555  Upper_Bounds = 530.9897335951244\n"
     ]
    }
   ],
   "source": [
    "import math\n",
    "\n",
    "lower_bounds, upper_bounds = normal_two_sided_bounds(0.95, mu_0, sigma_0)\n",
    "print(f' Lower_bound = {lower_bounds}  Upper_Bounds = {upper_bounds}')"
   ]
  },
  {
   "cell_type": "code",
   "execution_count": 9,
   "metadata": {},
   "outputs": [
    {
     "name": "stdout",
     "output_type": "stream",
     "text": [
      "0.886548001295367\n"
     ]
    }
   ],
   "source": [
    "# 95% bounds based on assumption p is 0.5\n",
    "lo, hi = normal_two_sided_bounds(0.95, mu_0, sigma_0)\n",
    "\n",
    "# actual mu & sigma based  on p = 0.55\n",
    "mu_1, sigma_1 = normal_appromixation_to_binomial(1000, 0.55)\n",
    "\n",
    "# a type 2 error means we fail to reject the null hyppothesis,\n",
    "# which will happen when X is still in our Orignal interval\n",
    "type_2_probaility = normal_probability_between(lo, hi, mu_1, sigma_1)\n",
    "power = 1 - type_2_probaility\n",
    "print(power)"
   ]
  },
  {
   "cell_type": "code",
   "execution_count": null,
   "metadata": {},
   "outputs": [],
   "source": []
  }
 ],
 "metadata": {
  "kernelspec": {
   "display_name": "Python 3",
   "language": "python",
   "name": "python3"
  },
  "language_info": {
   "codemirror_mode": {
    "name": "ipython",
    "version": 3
   },
   "file_extension": ".py",
   "mimetype": "text/x-python",
   "name": "python",
   "nbconvert_exporter": "python",
   "pygments_lexer": "ipython3",
   "version": "3.10.13"
  }
 },
 "nbformat": 4,
 "nbformat_minor": 2
}
