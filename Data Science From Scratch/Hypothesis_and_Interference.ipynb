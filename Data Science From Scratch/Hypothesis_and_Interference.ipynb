{
 "cells": [
  {
   "cell_type": "code",
   "execution_count": 1,
   "metadata": {},
   "outputs": [],
   "source": [
    "from typing import Tuple\n",
    "import math\n",
    "\n",
    "def normal_appromixation_to_binomial(n: int, p:float) -> Tuple[float,float]:\n",
    "    \"\"\" Returns mu & sigma corresponding to a binomial(n,p) \"\"\"\n",
    "\n",
    "    mu = p * n\n",
    "    sigma = math.sqrt(p * (1 - p) * n)\n",
    "    return mu, sigma"
   ]
  },
  {
   "cell_type": "markdown",
   "metadata": {},
   "source": [
    "# Normal Probability Above/Below/Between"
   ]
  },
  {
   "cell_type": "code",
   "execution_count": 2,
   "metadata": {},
   "outputs": [],
   "source": [
    "from Helper.Probabilty import normal_cdf\n",
    "\n",
    "# The normal cdf _is_ the probability thae variable is below a threshold \n",
    "\n",
    "normal_probability_below = normal_cdf\n",
    "\n",
    "# It's above the threshold if it's not below the threshold\n",
    "def normal_probability_above( lo: float,\n",
    "                              mu: float = 0,\n",
    "                              sigma: float = 1) -> float:\n",
    "    \"\"\"  The probabilty that an N(mu, sigma) is greater than lo.\"\"\"\n",
    "    return 1 - normal_cdf(lo, mu, sigma)\n",
    "\n",
    "# if it's less than hi, but not less than lo\n",
    "def normal_probability_between(lo: float,\n",
    "                               hi: float,\n",
    "                               mu: float,\n",
    "                               sigma: float = 1) -> float:\n",
    "    \"\"\" The probability that an N(mu, sigma) is between lo and hi \"\"\"\n",
    "    return normal_cdf(hi, mu, sigma) - normal_cdf(lo, mu, sigma)\n",
    "\n",
    "# It's outside if it's not between\n",
    "def normal_probability_outside(lo: float,\n",
    "                               hi: float,\n",
    "                               mu: float,\n",
    "                               sigma: float = 1) -> float:\n",
    "    \"\"\" The probability that an N(mu, sigma) is not between lo and hi  \"\"\"\n",
    "    return 1 - normal_probability_between(lo, hi, mu, sigma)\n"
   ]
  },
  {
   "cell_type": "markdown",
   "metadata": {},
   "source": [
    "# Inverse Probability by bounds \n",
    " "
   ]
  },
  {
   "cell_type": "code",
   "execution_count": 3,
   "metadata": {},
   "outputs": [],
   "source": [
    "from Helper.Probabilty import inverse_normal_cdf\n",
    "\n",
    "def  normal_upper_bound(probability: float,\n",
    "                        mu : float = 0,\n",
    "                        sigma: float = 1) -> float:\n",
    "    \"\"\" Returns the z for which P(Z >= z) = probability \"\"\"\n",
    "    return inverse_normal_cdf(probability, mu, sigma)\n",
    "\n",
    "def  normal_lower_bound(probability: float,\n",
    "                        mu : float = 0,\n",
    "                        sigma: float = 1) -> float:\n",
    "    \"\"\" Returns the z for which P(Z >= z) = probability \"\"\"\n",
    "    return inverse_normal_cdf( 1 - probability, mu, sigma)\n",
    "\n",
    "def normal_two_sided_bounds(probability: float,\n",
    "                            mu: float, \n",
    "                            sigma: float = 1) -> Tuple[float, float]:\n",
    "    \"\"\" \n",
    "    Returns the symmetric (above the mean ) bounds\n",
    "    that contains the specified probability\n",
    "    \"\"\"\n",
    "\n",
    "    tail_probability = ( 1 - probability) / 2\n",
    "\n",
    "    # Upper bound should have tail_probability above it\n",
    "    upper_bound = normal_lower_bound(tail_probability, mu, sigma)\n",
    "\n",
    "    # Lower bound should have tail_probability below it\n",
    "    lower_bound = normal_upper_bound(tail_probability, mu, sigma)\n",
    "\n",
    "    return lower_bound, upper_bound\n",
    "\n"
   ]
  },
  {
   "cell_type": "code",
   "execution_count": 4,
   "metadata": {},
   "outputs": [
    {
     "name": "stdout",
     "output_type": "stream",
     "text": [
      " mu_0 500.0  sigma 15.811388300841896\n"
     ]
    }
   ],
   "source": [
    "mu_0, sigma_0 = normal_appromixation_to_binomial(1000, 0.5)\n",
    "print(f' mu_0 {mu_0}  sigma {sigma_0}')"
   ]
  },
  {
   "cell_type": "code",
   "execution_count": 5,
   "metadata": {},
   "outputs": [
    {
     "name": "stdout",
     "output_type": "stream",
     "text": [
      " Lower_bound = 469.01026640487555  Upper_Bounds = 530.9897335951244\n"
     ]
    }
   ],
   "source": [
    "import math\n",
    "\n",
    "lower_bounds, upper_bounds = normal_two_sided_bounds(0.95, mu_0, sigma_0)\n",
    "print(f' Lower_bound = {lower_bounds}  Upper_Bounds = {upper_bounds}')"
   ]
  },
  {
   "cell_type": "code",
   "execution_count": 6,
   "metadata": {},
   "outputs": [
    {
     "name": "stdout",
     "output_type": "stream",
     "text": [
      "0.886548001295367\n"
     ]
    }
   ],
   "source": [
    "# 95% bounds based on assumption p is 0.5\n",
    "lo, hi = normal_two_sided_bounds(0.95, mu_0, sigma_0)\n",
    "\n",
    "# actual mu & sigma based  on p = 0.55\n",
    "mu_1, sigma_1 = normal_appromixation_to_binomial(1000, 0.55)\n",
    "\n",
    "# a type 2 error means we fail to reject the null hyppothesis,\n",
    "# which will happen when X is still in our Orignal interval\n",
    "type_2_probaility = normal_probability_between(lo, hi, mu_1, sigma_1)\n",
    "power = 1 - type_2_probaility\n",
    "print(power)"
   ]
  },
  {
   "cell_type": "markdown",
   "metadata": {},
   "source": [
    "# p-Values"
   ]
  },
  {
   "cell_type": "code",
   "execution_count": 8,
   "metadata": {},
   "outputs": [
    {
     "data": {
      "text/plain": [
       "0.06207721579598835"
      ]
     },
     "execution_count": 8,
     "metadata": {},
     "output_type": "execute_result"
    }
   ],
   "source": [
    "def two_sided_p_value(x: float, mu:float = 0, sigma: float = 1) -> float:\n",
    "    \"\"\" \n",
    "    How likely are we to see a value at least as extreme as x (in either direction)\n",
    "    if our values are from an N(mu, sigma) ?\n",
    "    \"\"\"\n",
    "\n",
    "    if x >= mu:\n",
    "        # x is greater than mean, so the tail is everything greater than x\n",
    "        return 2 * normal_probability_above(x, mu, sigma)\n",
    "    else:\n",
    "        # x is less than the mean, so the tail is everything less than x\n",
    "        return 2 * normal_probability_below(x, mu, sigma)\n",
    "\n",
    "two_sided_p_value(529.5, mu_0, sigma_0)"
   ]
  },
  {
   "cell_type": "code",
   "execution_count": 11,
   "metadata": {},
   "outputs": [
    {
     "data": {
      "text/plain": [
       "60"
      ]
     },
     "execution_count": 11,
     "metadata": {},
     "output_type": "execute_result"
    }
   ],
   "source": [
    "import random\n",
    "\n",
    "extreme_value_count = 0\n",
    "for _ in range(1000):\n",
    "    num_heads = sum(1 if random.random() < 0.5 else 0\n",
    "                    for _ in range (1000))\n",
    "    if num_heads >= 530 or num_heads <=470:\n",
    "        extreme_value_count +=1\n",
    "    \n",
    "extreme_value_count"
   ]
  },
  {
   "cell_type": "markdown",
   "metadata": {},
   "source": [
    "# Confidence Intervals "
   ]
  },
  {
   "cell_type": "code",
   "execution_count": 14,
   "metadata": {},
   "outputs": [
    {
     "data": {
      "text/plain": [
       "0.015791611697353755"
      ]
     },
     "execution_count": 14,
     "metadata": {},
     "output_type": "execute_result"
    }
   ],
   "source": [
    "p = .525\n",
    "math.sqrt( p * ( 1 - p) / 1000)\n",
    "\n",
    "p_hat = 525 / 1000\n",
    "mu = p_hat\n",
    "sigma = math.sqrt( p_hat * (1 - p_hat) / 1000)\n",
    "sigma"
   ]
  },
  {
   "cell_type": "markdown",
   "metadata": {},
   "source": [
    "# p-Hacking"
   ]
  },
  {
   "cell_type": "code",
   "execution_count": 15,
   "metadata": {},
   "outputs": [],
   "source": [
    "from typing import List\n",
    "\n",
    "def run_experiment() -> List[bool] :\n",
    "    \"\"\" \n",
    "    Flips a fair coin 1000 times, Trye = heads, False = tails\n",
    "    \"\"\"\n",
    "    return [random.random() < 0.5 for _ in range(1000)]\n",
    "\n",
    "def reject_fairness(experiment: List[bool]) -> bool:\n",
    "    \"\"\" \n",
    "    Using the 5% significance levels \n",
    "    \"\"\"\n",
    "\n",
    "    num_heads = len([flip for flip in experiment if flip])\n",
    "    return num_heads < 469 or num_heads > 531\n",
    "\n",
    "random.seed(0)\n",
    "experiments = [ run_experiment() for _ in range(1000)]\n",
    "num_rejections = len([experiment for experiment in experiments if reject_fairness(experiment)])\n",
    "\n",
    "assert num_rejections ==46"
   ]
  },
  {
   "cell_type": "markdown",
   "metadata": {},
   "source": [
    "# A/B Testing"
   ]
  },
  {
   "cell_type": "code",
   "execution_count": 17,
   "metadata": {},
   "outputs": [
    {
     "name": "stdout",
     "output_type": "stream",
     "text": [
      " z value -1.1403464899034472\n",
      " two sided value 0.2541419765422359\n"
     ]
    }
   ],
   "source": [
    "def estimated_parameters(N: int, n: int) -> Tuple[float, float]:\n",
    "    p = n / N\n",
    "    sigma = math.sqrt(p * (1-p) / N)\n",
    "    return p,sigma\n",
    "\n",
    "def a_b_test_statistic( N_A:int, n_a: int, N_B: int, n_b: int) -> float:\n",
    "    p_A, sigma_A =  estimated_parameters(N_A, n_a)\n",
    "    p_B, sigma_B = estimated_parameters(N_B, n_b)\n",
    "    return (p_B - p_A) / math.sqrt(sigma_A ** 2 + sigma_B ** 2)\n",
    "\n",
    "z = a_b_test_statistic(1000, 200, 1000, 180)\n",
    "print(f' z value {z}')\n",
    "print(f' two sided value {two_sided_p_value(z)}')"
   ]
  },
  {
   "cell_type": "code",
   "execution_count": null,
   "metadata": {},
   "outputs": [],
   "source": []
  }
 ],
 "metadata": {
  "kernelspec": {
   "display_name": "Python 3",
   "language": "python",
   "name": "python3"
  },
  "language_info": {
   "codemirror_mode": {
    "name": "ipython",
    "version": 3
   },
   "file_extension": ".py",
   "mimetype": "text/x-python",
   "name": "python",
   "nbconvert_exporter": "python",
   "pygments_lexer": "ipython3",
   "version": "3.10.13"
  }
 },
 "nbformat": 4,
 "nbformat_minor": 2
}
