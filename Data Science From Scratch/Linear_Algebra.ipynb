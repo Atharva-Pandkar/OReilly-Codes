{
 "cells": [
  {
   "cell_type": "markdown",
   "metadata": {},
   "source": [
    "Creating Vectors"
   ]
  },
  {
   "cell_type": "code",
   "execution_count": 4,
   "metadata": {},
   "outputs": [],
   "source": [
    "from typing import List\n",
    "\n",
    "Vector = List[float]\n",
    "\n",
    "height_weight_age = [70, # inches\n",
    "                      170, #pounds\n",
    "                        40] #years\n",
    "\n",
    "grades = [95, # Grades 1\n",
    "          80, # Grades 2\n",
    "          75, # Grades 3\n",
    "          62] # Grades 4"
   ]
  },
  {
   "cell_type": "markdown",
   "metadata": {},
   "source": [
    "# Add function for Vectors"
   ]
  },
  {
   "cell_type": "code",
   "execution_count": 5,
   "metadata": {},
   "outputs": [],
   "source": [
    "def add(v: Vector, w: Vector) -> Vector:\n",
    "    \"\"\" Add corresponding elements\"\"\"\n",
    "    assert len(v) == len(w) # Vectors must be of the same length\n",
    "    return [v_i + w_i for v_i , w_i in zip(v,w)]\n",
    "\n",
    "assert add([1,2,3],[4,5,6]) == [5,7,9]"
   ]
  },
  {
   "cell_type": "markdown",
   "metadata": {},
   "source": [
    "# Subtraction for two Vectors"
   ]
  },
  {
   "cell_type": "code",
   "execution_count": 6,
   "metadata": {},
   "outputs": [],
   "source": [
    "def sub(v: Vector, w: Vector) -> Vector:\n",
    "    \"\"\" Subtract corresponding elements \"\"\"\n",
    "    assert len(v) == len(w) # Vectors must be of same length \n",
    "    return [v_i - w_i for v_i,w_i in zip(v,w)]\n",
    "\n",
    "assert sub([5,7,9],[4,5,6]) == [1,2,3]"
   ]
  },
  {
   "cell_type": "markdown",
   "metadata": {},
   "source": [
    "# Sum a List of Vectors "
   ]
  },
  {
   "cell_type": "code",
   "execution_count": 7,
   "metadata": {},
   "outputs": [],
   "source": [
    "def vector_sum(vectors  : List[Vector]) -> Vector:\n",
    "    \"\"\" Sums all the corresponding elements  \"\"\"\n",
    "    # Check if vectors is empty or not\n",
    "    assert vectors, \"no Vectors provided!\"\n",
    "\n",
    "    # Check if all Vectors are of same size \n",
    "    num_elemnts = len(vectors[0])\n",
    "    assert all( len(v) == num_elemnts for v in vectors), \"Different size vectors provided\"\n",
    "\n",
    "    # For i-th element of the result is the sum of every vector[i]\n",
    "    return [sum(vector[i] for vector in vectors) \n",
    "            for i in range(num_elemnts)]\n",
    "\n",
    "assert vector_sum([[1,2],[3,4],[5,6],[7,8]]) == [16,20]"
   ]
  },
  {
   "cell_type": "markdown",
   "metadata": {},
   "source": [
    "# Scalar Multiplication"
   ]
  },
  {
   "cell_type": "code",
   "execution_count": 8,
   "metadata": {},
   "outputs": [],
   "source": [
    "def scalar_multiply( c: float, v:Vector) -> Vector:\n",
    "    \"\"\" Multiplies every element by c\"\"\"\n",
    "\n",
    "    # Check if vector is empty\n",
    "    assert v, \"Vector is empty!\"\n",
    "\n",
    "    return [c * v_i for v_i in v]\n",
    "\n",
    "assert scalar_multiply(2,[1,2,3]) == [2,4,6]"
   ]
  },
  {
   "cell_type": "markdown",
   "metadata": {},
   "source": [
    "# Componentwise mean of vector"
   ]
  },
  {
   "cell_type": "code",
   "execution_count": 9,
   "metadata": {},
   "outputs": [],
   "source": [
    "def vector_mean( vectors: List[Vector]) -> Vector:\n",
    "    \"\"\" Computes the element-wise average\"\"\"\n",
    "    n = len(vectors)\n",
    "    return scalar_multiply(1/n,vector_sum(vectors))\n",
    "\n",
    "assert vector_mean([[1,2],[3,4],[5,6]]) == [3,4]"
   ]
  },
  {
   "cell_type": "markdown",
   "metadata": {},
   "source": [
    "# Dot product"
   ]
  },
  {
   "cell_type": "code",
   "execution_count": 10,
   "metadata": {},
   "outputs": [],
   "source": [
    "def dot(v:Vector, w:Vector) -> float:\n",
    "    \"\"\"  Computes the dot product for 2 vectors\"\"\"\n",
    "    assert len(v) == len(w), \"Vectors are not of same size!\"\n",
    "\n",
    "    return sum( v_i * w_i for v_i, w_i in zip(v,w))\n",
    "\n",
    "assert dot([1,2,3],[4,5,6]) ==32 # 1*4 + 2*5 + 3*6"
   ]
  },
  {
   "cell_type": "markdown",
   "metadata": {},
   "source": [
    "# Sum of Squares"
   ]
  },
  {
   "cell_type": "code",
   "execution_count": 11,
   "metadata": {},
   "outputs": [],
   "source": [
    "def sum_of_squares(v:Vector) -> float:\n",
    "    \"\"\" Calculates the sum of squares for a given Vector\"\"\"\n",
    "    return dot(v,v)\n",
    "\n",
    "assert sum_of_squares([1,2,3]) == 14 # 1*1 + 2*2 + 3*3"
   ]
  },
  {
   "cell_type": "markdown",
   "metadata": {},
   "source": [
    "# Calculate Magnitude"
   ]
  },
  {
   "cell_type": "code",
   "execution_count": 17,
   "metadata": {},
   "outputs": [],
   "source": [
    "import math\n",
    "def magnitude(v:Vector) ->float:\n",
    "    \"\"\" Returns the magnitude or the length of v\"\"\"\n",
    "    return math.sqrt(sum_of_squares(v))\n",
    "assert magnitude([3,4]) == 5"
   ]
  },
  {
   "cell_type": "markdown",
   "metadata": {},
   "source": [
    "# Distance between two Vectors"
   ]
  },
  {
   "cell_type": "code",
   "execution_count": 18,
   "metadata": {},
   "outputs": [],
   "source": [
    "def squared_distance(v: Vector , w: Vector) -> float:\n",
    "    \"\"\" Computes (v_1 - w_1) **2 + .... (v_n -w_n) **2\"\"\"\n",
    "    return sum_of_squares(sub(v,w))\n",
    "\n",
    "def distance(v: Vector, w:Vector) -> float:\n",
    "    \"\"\" Computes the distance between v and w \"\"\"\n",
    "    return math.sqrt(squared_distance(v,w))\n"
   ]
  },
  {
   "cell_type": "markdown",
   "metadata": {},
   "source": [
    "Another way of doing this is "
   ]
  },
  {
   "cell_type": "code",
   "execution_count": 19,
   "metadata": {},
   "outputs": [],
   "source": [
    "def distance_better(v:Vector,w:Vector) -> float:\n",
    "    \"\"\" Computes the distance between v and w \"\"\"\n",
    "    return magnitude(sub(v,w))"
   ]
  },
  {
   "cell_type": "markdown",
   "metadata": {},
   "source": [
    "# Matrices\n"
   ]
  },
  {
   "cell_type": "code",
   "execution_count": 20,
   "metadata": {},
   "outputs": [],
   "source": [
    "# Type Alias\n",
    "Matrix  = List[List[float]]\n",
    "\n",
    "A = [[1, 2, 3],\n",
    "     [4, 5, 6]] # A has 2 rows and 3 Columns\n",
    "\n",
    "B = [[1, 2],\n",
    "     [3, 4],\n",
    "     [5, 6]] # B has 3 rows and 2 Columns\n"
   ]
  },
  {
   "cell_type": "markdown",
   "metadata": {},
   "source": [
    "# Function for shape of a Matrix"
   ]
  },
  {
   "cell_type": "code",
   "execution_count": 22,
   "metadata": {},
   "outputs": [],
   "source": [
    "from typing import Tuple\n",
    "\n",
    "def shape(A: Matrix) -> Tuple[int, int]:\n",
    "    \"\"\" Returns the number of Rows and Columns in A \"\"\"\n",
    "    num_rows = len(A)\n",
    "    num_col = len(A[0]) if A else 0 # Number of elements in first row\n",
    "    return num_rows, num_col\n",
    "\n",
    "assert shape([[1, 2, 3], [4, 5, 6]]) == (2,3)"
   ]
  },
  {
   "cell_type": "markdown",
   "metadata": {},
   "source": [
    "# Get Data Rows & Columns "
   ]
  },
  {
   "cell_type": "code",
   "execution_count": 23,
   "metadata": {},
   "outputs": [],
   "source": [
    "def get_row(A: Matrix, i:int) -> Vector:\n",
    "    \"\"\" Returns the i-th row of A(as a Vector)\"\"\"\n",
    "    assert i <= len(A), \" Out of Bounds\" # If user gave a value that's greater that the number or rows\n",
    "    return A[i]\n",
    "\n",
    "def get_column(A: Matrix, j:int) -> Vector:\n",
    "    \"\"\" Returns the j-th Column od A (as a Vector) \"\"\"\n",
    "    assert j <= len(A[0])\n",
    "\n",
    "    return [A_i[j] for A_i in A]\n",
    "\n"
   ]
  },
  {
   "cell_type": "markdown",
   "metadata": {},
   "source": [
    "# Make Matrix"
   ]
  },
  {
   "cell_type": "code",
   "execution_count": 24,
   "metadata": {},
   "outputs": [],
   "source": [
    "\n",
    "from typing import Callable\n",
    "def make_matrix( num_rows: int,\n",
    "                num_cols: int,\n",
    "                entry_fn: Callable[[int,int], float]) -> Matrix:\n",
    "    \"\"\"\n",
    "    returns a num_rows x nums_cols matrix \n",
    "    whose (i,j)-th entry is entry_fn(1,j)\n",
    "    \"\"\"\n",
    "    \n",
    "    return [[entry_fn(i,j)\n",
    "             for j in range(num_cols)\n",
    "             for i in range(num_rows)]]"
   ]
  },
  {
   "cell_type": "code",
   "execution_count": null,
   "metadata": {},
   "outputs": [],
   "source": []
  }
 ],
 "metadata": {
  "kernelspec": {
   "display_name": "Python 3",
   "language": "python",
   "name": "python3"
  },
  "language_info": {
   "codemirror_mode": {
    "name": "ipython",
    "version": 3
   },
   "file_extension": ".py",
   "mimetype": "text/x-python",
   "name": "python",
   "nbconvert_exporter": "python",
   "pygments_lexer": "ipython3",
   "version": "3.10.13"
  }
 },
 "nbformat": 4,
 "nbformat_minor": 2
}
