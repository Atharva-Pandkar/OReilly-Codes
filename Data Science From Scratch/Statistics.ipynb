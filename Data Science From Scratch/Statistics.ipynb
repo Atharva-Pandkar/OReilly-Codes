{
 "cells": [
  {
   "cell_type": "markdown",
   "metadata": {},
   "source": [
    "# Creating a class that tells us the median of any given list"
   ]
  },
  {
   "cell_type": "code",
   "execution_count": 16,
   "metadata": {},
   "outputs": [],
   "source": [
    "\n",
    "def _median_odd(xs : list[float]) -> float:\n",
    "    \"\"\" \n",
    "    This function is not supposed to be called by other user's but the program itself\n",
    "    Takes in the list and returns the median. \n",
    "    The median would be the middle value\n",
    "    \"\"\"\n",
    "    return sorted(xs)[len(xs)//2]\n",
    "\n",
    "def _median_even(xs : list[float]) -> float:\n",
    "    \"\"\"\n",
    "    This function is not supposed to be called by other user's but the program itself\n",
    "    Takes in the list and returns the median. \n",
    "    The median would be the average of the middle two values\n",
    "    \"\"\"\n",
    "    hi_midpoint = len(xs) //2\n",
    "    return (sorted(xs)[hi_midpoint -1] + sorted(xs)[hi_midpoint])/2\n",
    "\n",
    "def median( v : list[float]) -> float:\n",
    "    \"\"\" \n",
    "    This Function calculates the meadian irrespectative of wether It has odd numbers or elements or even\n",
    "    \"\"\"\n",
    "    return _median_even(v) if len(v) % 2 ==0 else _median_odd(v)"
   ]
  },
  {
   "cell_type": "code",
   "execution_count": 17,
   "metadata": {},
   "outputs": [],
   "source": [
    "assert median([1, 10, 2, 9, 5]) ==5\n",
    "assert median([1, 9, 2, 10]) == (2+9)/2"
   ]
  },
  {
   "cell_type": "markdown",
   "metadata": {},
   "source": [
    "Calculating the Quantile    "
   ]
  },
  {
   "cell_type": "code",
   "execution_count": 20,
   "metadata": {},
   "outputs": [],
   "source": [
    "def quantile(xs : list[float], p:float) -> float:\n",
    "    \"\"\" \n",
    "    This function returns the Pth Percentile value in a list x\n",
    "    \"\"\"\n",
    "    p_index = int(p * len(xs))\n",
    "    return sorted(xs)[p_index]"
   ]
  },
  {
   "cell_type": "code",
   "execution_count": 21,
   "metadata": {},
   "outputs": [],
   "source": [
    "assert quantile([1, 10, 2, 9, 5],.5) ==5"
   ]
  },
  {
   "cell_type": "markdown",
   "metadata": {},
   "source": [
    "Calculating the Mode"
   ]
  },
  {
   "cell_type": "code",
   "execution_count": 28,
   "metadata": {},
   "outputs": [],
   "source": [
    "from collections import Counter\n",
    "def mode(xs: list[float]) -> float:\n",
    "    \"\"\" \n",
    "    Returns the mode of the given list xs\n",
    "    \"\"\"\n",
    "    counts = Counter(xs)\n",
    "    max_count = max(counts.values())\n",
    "    return [x_i for x_i, count in counts.items() if count == max_count]"
   ]
  },
  {
   "cell_type": "code",
   "execution_count": 32,
   "metadata": {},
   "outputs": [],
   "source": [
    "assert mode([1, 10, 1, 2, 2, 3, 5, 2]) == [2]"
   ]
  },
  {
   "cell_type": "markdown",
   "metadata": {},
   "source": [
    "Calculating Range of a given data"
   ]
  },
  {
   "cell_type": "code",
   "execution_count": 33,
   "metadata": {},
   "outputs": [],
   "source": [
    "def data_range(xs: list[float]) -> float:\n",
    "    \"\"\"\n",
    "    This function gives the range of the given data\n",
    "    \"\"\"\n",
    "    return max(xs) - min(xs)"
   ]
  },
  {
   "cell_type": "code",
   "execution_count": 34,
   "metadata": {},
   "outputs": [],
   "source": [
    "assert data_range([1, 2, 3, 4, 5, 100]) == 99"
   ]
  }
 ],
 "metadata": {
  "kernelspec": {
   "display_name": "Python 3",
   "language": "python",
   "name": "python3"
  },
  "language_info": {
   "codemirror_mode": {
    "name": "ipython",
    "version": 3
   },
   "file_extension": ".py",
   "mimetype": "text/x-python",
   "name": "python",
   "nbconvert_exporter": "python",
   "pygments_lexer": "ipython3",
   "version": "3.10.13"
  }
 },
 "nbformat": 4,
 "nbformat_minor": 2
}
