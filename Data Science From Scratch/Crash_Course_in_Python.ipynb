{
 "cells": [
  {
   "cell_type": "markdown",
   "metadata": {},
   "source": [
    "# Functions"
   ]
  },
  {
   "cell_type": "code",
   "execution_count": 1,
   "metadata": {},
   "outputs": [],
   "source": [
    "def double(x):\n",
    "    \"\"\"\n",
    "    This function multiplies its input by 2\n",
    "    \"\"\"\n",
    "    return x*2"
   ]
  },
  {
   "cell_type": "code",
   "execution_count": 3,
   "metadata": {},
   "outputs": [
    {
     "data": {
      "text/plain": [
       "2"
      ]
     },
     "execution_count": 3,
     "metadata": {},
     "output_type": "execute_result"
    }
   ],
   "source": [
    "def apply_to_one(f):\n",
    "    \"\"\" Calls the dunction f with 1 as its arguments \"\"\"\n",
    "\n",
    "    return f(1)\n",
    "\n",
    "my_double = double # Initializing the function double\n",
    "x = apply_to_one(my_double)\n",
    "x"
   ]
  },
  {
   "cell_type": "markdown",
   "metadata": {},
   "source": [
    "We can also create Lambdas to this "
   ]
  },
  {
   "cell_type": "code",
   "execution_count": 4,
   "metadata": {},
   "outputs": [
    {
     "data": {
      "text/plain": [
       "5"
      ]
     },
     "execution_count": 4,
     "metadata": {},
     "output_type": "execute_result"
    }
   ],
   "source": [
    "y = apply_to_one(lambda x: x+4) # Should be equal to 5\n",
    "y"
   ]
  },
  {
   "cell_type": "markdown",
   "metadata": {},
   "source": [
    "# List Comprehensions"
   ]
  },
  {
   "cell_type": "markdown",
   "metadata": {},
   "source": [
    "Examples of List Comprehensions "
   ]
  },
  {
   "cell_type": "code",
   "execution_count": 5,
   "metadata": {},
   "outputs": [
    {
     "name": "stdout",
     "output_type": "stream",
     "text": [
      " Even Numbers [0, 2, 4]\n",
      " square Numbers [0, 1, 4, 9, 16]\n",
      " Even Square Numbers [0, 4, 16]\n"
     ]
    }
   ],
   "source": [
    "print(f' Even Numbers {[x for x in range(5) if x%2 ==0]}')\n",
    "print(f' square Numbers {[x**2 for x in range(5)]}')\n",
    "print(f' Even Square Numbers {[x**2 for x in range(5) if x%2 ==0]}')"
   ]
  },
  {
   "cell_type": "code",
   "execution_count": 11,
   "metadata": {},
   "outputs": [
    {
     "name": "stdout",
     "output_type": "stream",
     "text": [
      " Even Dictionary Numbers dict_items([(0, 0), (2, 2), (4, 4)])\n",
      " Even Square Dictionary Numbers dict_items([(0, 0), (2, 4), (4, 16)])\n",
      " Square set {1}\n"
     ]
    }
   ],
   "source": [
    "even_dictionary = {x: x for x in range(5) if x%2 ==0}\n",
    "even_square_dictionary = {x: x**2 for x in range(5) if x%2 ==0}\n",
    "square_set = {x*x for x in [1,-1]}\n",
    "print(f' Even Dictionary Numbers {even_dictionary.items()}')\n",
    "print(f' Even Square Dictionary Numbers {even_square_dictionary.items()}')\n",
    "print(f' Square set {square_set}')"
   ]
  },
  {
   "cell_type": "markdown",
   "metadata": {},
   "source": [
    "We can Also use list comprehensions without using the X value"
   ]
  },
  {
   "cell_type": "code",
   "execution_count": 13,
   "metadata": {},
   "outputs": [
    {
     "name": "stdout",
     "output_type": "stream",
     "text": [
      " Zeros [0, 0, 0, 0, 0, 0, 0, 0, 0, 0]\n"
     ]
    }
   ],
   "source": [
    "zeros = [0 for _ in range(10)]\n",
    "print(f' Zeros {zeros}')"
   ]
  },
  {
   "cell_type": "markdown",
   "metadata": {},
   "source": [
    "List Comprehensions can also have multiple For's in them\n"
   ]
  },
  {
   "cell_type": "code",
   "execution_count": 20,
   "metadata": {},
   "outputs": [
    {
     "name": "stdout",
     "output_type": "stream",
     "text": [
      " Total Pairs 100\n",
      " Total pair 2 45\n"
     ]
    }
   ],
   "source": [
    "pairs = [(x,y) \n",
    "for x in range(10)\n",
    " for y in range(10)]\n",
    "print(f' Total Pairs {len(pairs)}') # This should be 100\n",
    "\n",
    "pairs_results = [(x,y) \n",
    "for x in range(10)\n",
    "for y in range(x+1, 10)]\n",
    "\n",
    "print(f' Total pair 2 { len(pairs_results)}')"
   ]
  }
 ],
 "metadata": {
  "kernelspec": {
   "display_name": "Python 3",
   "language": "python",
   "name": "python3"
  },
  "language_info": {
   "codemirror_mode": {
    "name": "ipython",
    "version": 3
   },
   "file_extension": ".py",
   "mimetype": "text/x-python",
   "name": "python",
   "nbconvert_exporter": "python",
   "pygments_lexer": "ipython3",
   "version": "3.10.13"
  }
 },
 "nbformat": 4,
 "nbformat_minor": 2
}
